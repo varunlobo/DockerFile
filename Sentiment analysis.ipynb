{
 "cells": [
  {
   "cell_type": "code",
   "execution_count": 2,
   "id": "69dba174",
   "metadata": {},
   "outputs": [],
   "source": [
    "from textblob import TextBlob\n",
    "from newspaper import Article\n"
   ]
  },
  {
   "cell_type": "code",
   "execution_count": 27,
   "id": "7302756c",
   "metadata": {},
   "outputs": [],
   "source": [
    "text=\"Hello , I hate my job and I am a very unappy\""
   ]
  },
  {
   "cell_type": "code",
   "execution_count": 21,
   "id": "cc4fc3c5",
   "metadata": {},
   "outputs": [],
   "source": [
    "blob = TextBlob(text)\n",
    "\n",
    "sentiment = blob.sentiment.polarity\n"
   ]
  },
  {
   "cell_type": "code",
   "execution_count": 22,
   "id": "43114b7e",
   "metadata": {},
   "outputs": [
    {
     "name": "stdout",
     "output_type": "stream",
     "text": [
      "-0.79\n"
     ]
    }
   ],
   "source": [
    "print(sentiment)"
   ]
  },
  {
   "cell_type": "code",
   "execution_count": 23,
   "id": "3c471eca",
   "metadata": {},
   "outputs": [
    {
     "name": "stdout",
     "output_type": "stream",
     "text": [
      "<bound method TextBlob.to_json of TextBlob(\"Hello , I hate my job and I am a very unhappy\")>\n"
     ]
    }
   ],
   "source": []
  },
  {
   "cell_type": "code",
   "execution_count": 28,
   "id": "020688ae",
   "metadata": {},
   "outputs": [
    {
     "data": {
      "text/plain": [
       "TextBlob(\"Hello , I hate my job and I am a very unhappy\")"
      ]
     },
     "execution_count": 28,
     "metadata": {},
     "output_type": "execute_result"
    }
   ],
   "source": [
    "blob.correct()"
   ]
  },
  {
   "cell_type": "code",
   "execution_count": null,
   "id": "aa09def5",
   "metadata": {},
   "outputs": [],
   "source": []
  },
  {
   "cell_type": "code",
   "execution_count": 5,
   "id": "1a5fdd95",
   "metadata": {},
   "outputs": [
    {
     "name": "stderr",
     "output_type": "stream",
     "text": [
      "[nltk_data] Downloading package punkt to\n",
      "[nltk_data]     C:\\Users\\varulobo\\AppData\\Roaming\\nltk_data...\n",
      "[nltk_data]   Unzipping tokenizers\\punkt.zip.\n"
     ]
    },
    {
     "data": {
      "text/plain": [
       "['world',\n",
       " 'perpetrated',\n",
       " 'committed',\n",
       " 'crimes',\n",
       " 'edit',\n",
       " 'camp',\n",
       " 'serbs',\n",
       " 'killed',\n",
       " 'villages',\n",
       " 'list',\n",
       " 'chetniks',\n",
       " 'ii',\n",
       " 'war',\n",
       " 'nazi']"
      ]
     },
     "execution_count": 5,
     "metadata": {},
     "output_type": "execute_result"
    }
   ],
   "source": [
    "url=\"https://en.wikipedia.org/wiki/List_of_war_crimes_committed_during_World_War_II\"\n",
    "article = Article(url)\n",
    "article.download()\n",
    "article.parse()\n",
    "\n",
    "import nltk\n",
    "nltk.download('punkt')\n",
    "article.nlp()\n",
    "\n",
    "article.nlp()\n"
   ]
  },
  {
   "cell_type": "code",
   "execution_count": 11,
   "id": "8626b29a",
   "metadata": {},
   "outputs": [
    {
     "data": {
      "text/plain": [
       "'This is a list of war crimes committed during World War II.\\n\\nAxis powers [ edit ]\\n\\nThe Axis powers (Nazi Germany, Fascist Italy, and Imperial Japan) were some of the most systematic perpetrators of war crimes in modern history. The factors which contributed to Axis war crimes included Nazi racial theories, the desire for \"living space\" which was used as a justification for the eradication of native populations, and militaristic indoctrination that encouraged the terrorization of conquered peoples and prisoners of war. The Holocaust, the German attack on the Soviet Union and the German occupation of much of Europe, the Japanese invasion and occupation of Manchuria, the Japanese invasion of China and the Japanese occupation of the Philippines all contributed to well over half of all of the civilian deaths in World War II as well as the conflicts that led up to the war. Even before post-war revelations of atrocities, Axis military forces were notorious for their brutal treatment of captured combatants.\\n\\nCrimes perpetrated by Germany [ edit ]\\n\\nAccording to the Nuremberg Trials, there were four major categories of crimes alleged against the German political leadership, the ruling party NSDAP, the military high command, the paramilitary SS, the security services, the civil occupation authorities, as well as individual government officials (including members of the civil service or the diplomatic corps), soldiers or members of paramilitary formations, industrialists, bankers and media proprietors, each with individual events that made up the major charges. The crime of genocide was later raised to a separate, fifth category.\\n\\nAt least 10 million, and perhaps over 20 million perished directly and indirectly due to the commission of crimes against humanity and war crimes by Hitler\\'s regime, of which the Holocaust lives on in particular infamy, for its particularly cruel nature and scope, and the industrialised nature of the genocide of Jewish citizens of states invaded or controlled by the Nazi regime. At least 5.9 million Jews were murdered by the Nazis, or 66 to 78% of Europe\\'s Jewish population, although a complete count may never be known. Though much of Continental Europe suffered under the Nazi occupation, Poland, in particular, was the state most devastated by these crimes, with 90% of its Jews as well as many ethnic Poles slaughtered by the Nazis and their affiliates. After the war, from 1945 to 1949, the Nazi regime was put on trial in two tribunals in Nuremberg, Germany by the victorious Allied powers.\\n\\nThe first tribunal indicted 24 major Nazi war criminals, and resulted in 19 convictions (of which 12 led to death sentences) and 3 acquittals, 2 of the accused died before a verdict was rendered, at least one of which by killing himself with cyanide.[11] The second tribunal indicted 185 members of the military, economic, and political leadership of Nazi Germany, of which 142 were convicted and 35 were acquitted. In subsequent decades, approximately 20 additional war criminals who escaped capture in the immediate aftermath of World War II were tried in West Germany and Israel. In Germany and many other European nations, the Nazi Party and denial of the Holocaust is outlawed.[citation needed]\\n\\nCrimes perpetrated by Hungary [ edit ]\\n\\nCrimes perpetrated by Italy [ edit ]\\n\\nInvasion of Abyssinia: Waging a war of aggression for territorial aggrandisement, war crimes, use of poisons as weapons, crimes against humanity; in violation of the Kellogg-Briand Pact, and the customary law of nations, Italy invaded the Kingdom of Abyssinia in 1936 without cause cognisable by the law of nations, and waged a war of annihilation against Ethiopian resistance, using poisons against military forces and civilian persons alike, not giving quarter to POWs who had surrendered, and massacring civilians, including the killing of 19,000-30,000 civilians in the 1937 Yekatit 12 massacre.\\n\\nInvasion of Albania: Waging a war of aggression for territorial aggrandisement; Italy invaded the Kingdom of Albania in 1939 without cause cognisable by the law of nations in a brief but bloody affair that saw King Zog deposed and an Italian proconsul installed in his place. Italy subsequently acted as the suzerain of Albania until its ultimate liberation later in World War II.\\n\\nInvasion of Yugoslavia: Aerial bombardment of civilian population; internment of tens of thousands of civilians in concentration camps (Rab: 3,500 – 4,641 killed, Gonars: over 500 killed, Molat: 1,000 killed).\\n\\n\"Circular 3C\" policy, implemented by Mario Roatta, which included the tactics of \"summary executions, hostage-taking, reprisals, internments and the burning of houses and villages.\" [22]\\n\\nMassacres of civilians, such as in Podhum.\\n\\nItalian invasion and occupation of Greece: Domenikon massacre.\\n\\nNo one has been brought to trial for war crimes, although in 1950 the former Italian defence minister was convicted for collaboration with Nazi Germany.\\n\\ndeportation of around 70,000 Slovak Jews into German Nazi concentration camps\\n\\nannihilation of 60 villages and their inhabitants [23]\\n\\ndeportation of Slovak Jews, Roma and political opponents into Slovak forced labour camps in Sereď, and Nováky\\n\\nbrought to trial and sentenced to death: Jozef Tiso, Ferdinand Ďurčanský (he fled), Vojtech Tuka and 14 others[24]\\n\\nCrimes perpetrated by Japan [ edit ]\\n\\nThis section includes war crimes which were committed from 7 December 1941 when the United States was attacked by Imperial Japan and entered World War II. For war crimes which were committed before this date, specifically for war crimes which were committed during the Second Sino-Japanese War, please see the section above which is titled 1937–1945: Second Sino-Japanese War.\\n\\nCrimes perpetrated by Romania [ edit ]\\n\\nIncident type of crime Persons responsible Notes Iași pogrom[50] Crimes against humanity; crime of genocide 57 people were tried and sentenced in the People\\'s Tribunals Iaşi trial[51] including General Emanoil Leoveanu, General Gheorghe Barozzi, General Stamatiu, former Iași Prefect Colonel Coculescu, former Iași Mayor Colonel Captaru, and Gavrilovici Constantin (former driver at the Iași bus depot). resulted in the murder of at least 13,266 Jews Odessa massacre[52] Crimes against humanity; crime of genocide 28 people were tried and sentenced in the People\\'s Tribunals Odessa trial[51] including General Nicolae Macici The mass murder of Jewish and Romani population of Odessa and surrounding towns in Transnistria (now in Ukraine) during the autumn of 1941 and winter of 1942 while under Romanian control. Depending on the accepted terms of reference and scope, the Odessa massacre refers either to the events of 22–24 October 1941 in which some 25,000 to 34,000 Jews were shot or burned, or to the murder of well over 100,000 Ukrainian Jews in the town and the areas between the Dniester and Bug rivers, during the Romanian and German occupation. In the same days, Germans and Romanians killed about 15,000 Romani people.[ citation needed ] Aita Seaca massacre[53] War crime Gavril Olteanu Retaliation by Romanian paramilitaries for the killing of 20 Romanian soldiers by ethnic Hungarian locals on 4 September 1944. Eleven ethnic Hungarian civilians executed on 26 September 1944.[ citation needed ]\\n\\nCrimes perpetrated by the Chetniks [ edit ]\\n\\nChetnik ideology revolved around the notion of a Greater Serbia within the borders of Yugoslavia, to be created out of all territories in which Serbs were found, even if the numbers were small. A directive dated 20 December 1941, addressed to newly appointed commanders in Montenegro, Major Đorđije Lašić and Captain Pavle Đurišić, outlined, among other things, the cleansing of all non-Serb elements in order to create a Greater Serbia:\\n\\nThe struggle for the liberty of our whole nation under the scepter of His Majesty King Peter II; the creation of a Great Yugoslavia and within it of a Great Serbia which is to be ethnically pure and is to include Serbia, Montenegro, Bosnia and Herzegovina, Srijem, the Banat, and Bačka; the struggle for the inclusion into Yugoslavia of all still unliberated Slovene territories under the Italians and Germans (Trieste, Gorizia, Istria, and Carinthia) as well as Bulgaria, and northern Albania with Skadar; the cleansing of the state territory of all national minorities and a-national elements; the creation of contiguous frontiers between Serbia and Montenegro, as well as between Serbia and Slovenia by cleansing the Muslim population from Sandžak and the Muslim and Croat populations from Bosnia and Herzegovina. — Directive of 20 December 1941\\n\\nChetniks in Šumadija kill a Partisan through heart extraction\\n\\nThe Chetniks systemically massacred Muslims in villages that they captured. In late autumn of 1941 the Italians handed over the towns of Višegrad, Goražde, Foča and the surrounding areas, in south-east Bosnia to the Chetniks to run as a puppet administration and NDH forces were compelled by the Italians to withdraw from there. After the Chetniks gained control of Goražde on 29 November 1941, they began a massacre of Home Guard prisoners and NDH officials that became a systematic massacre of the local Muslim civilian population.\\n\\nSeveral hundred Muslims were murdered and their bodies were left hanging in the town or thrown into the Drina river. On 5 December 1941, the Chetniks received the town of Foča from the Italians and proceeded to massacre around 500 Muslims. Additional massacres against the Muslims in the area of Foča took place in August 1942. In total, more than 2000 people were killed in Foča.\\n\\nIn early January, Chetniks entered Srebrenica and killed around 1000 Muslim civilians there and in nearby villages. Around the same time the Chetniks made their way to Višegrad where deaths were reportedly in the thousands. Massacres continued in the following months in the region. In the village of Žepa alone about three hundred were killed in late 1941. In early January, Chetniks massacred fifty-four Muslims in Čelebić and burned down the village. On 3 March, Chetniks burned forty-two Muslim villagers to death in Drakan.\\n\\nIn early January 1943, and again in early February, Montenegrin Chetnik units were ordered to carry out \"cleansing actions\" against Muslims, first in the Bijelo Polje county in Sandžak and then in February in the Čajniče county and part of Foča county in southeastern Bosnia, and in part of the Pljevlja county in Sandžak.\\n\\nPavle Đurišić, the officer in charge of these operations, reported to Mihailović, Chief of Staff of the Supreme Command, that on 10 January 1943: \"thirty-three Muslim villages had been burned down, and 400 Muslim fighters (members of the Muslim self-protection militia supported by the Italians) and about 1,000 women and children had been killed, as against 14 Chetnik dead and 26 wounded\".\\n\\nIn another report sent by Đurišić dated 13 February 1943, he reported that: \"Chetniks killed about 1,200 Muslim fighters and about 8,000 old people, women, and children; Chetnik losses in the action were 22 killed and 32 wounded\". He added that \"during the operation the total destruction of the Muslim inhabitants was carried out regardless of sex and age\". The total number of deaths caused by the anti-Muslim operations between January and February 1943 is estimated at 10,000. The casualty rate would have been higher had a great number of Muslims not already fled the area, most to Sarajevo, when the February action began. According to a statement from the Chetnik Supreme Command from 24 February 1943, these were countermeasures taken against Muslim aggressive activities; however, all circumstances show that these massacres were committed in accordance with implementing the directive of 20 December 1941.\\n\\nActions against the Croats were of a smaller scale but comparable in action. In early October 1942 in the village of Gata, where an estimated 100 people were killed and many homes burnt in reprisal taken for the destruction of roads in the area carried out on the Italians\\' account. That same month, formations under the command of Petar Baćović and Dobroslav Jevđević, who were participating in the Italian Operation Alfa in the area of Prozor, massacred over 500 Croats and Muslims and burnt numerous villages. Baćović noted that \"Our Chetniks killed all men 15 years of age or older. ... Seventeen villages were burned to the ground.\" Mario Roatta, commander of the Italian Second Army, objected to these \"massive slaughters\" of noncombatant civilians and threatened to halt Italian aid to the Chetniks if they did not end.\\n\\nCrimes perpetrated by the Ustashas [ edit ]\\n\\nThe Ustaša intended to create an ethnically \"pure\" Greater Croatia, and they viewed those Serbs then living in Croatia, Bosnia and Herzegovina as the biggest obstacle to this goal. Ustasha ministers Mile Budak, Mirko Puk and Milovan Žanić declared in May 1941 that the goal of the new Ustasha policy was an ethnically pure Croatia. The strategy to achieve their goal was:[64][65]\\n\\nOne-third of the Serbs were to be killed One-third of the Serbs were to be expelled One-third of the Serbs were to be forcibly converted to Catholicism\\n\\nThe Independent State of Croatia government cooperated with Nazi Germany in the Holocaust and exercised their own version of the genocide against Serbs, as well as Jews and Gypsies (Roma) (aka \"gypsies\") inside its borders. State policy towards Serbs had first been declared in the words of Milovan Žanić, a minister of the NDH Legislative council, on 2 May 1941:\\n\\nThis country can only be a Croatian country, and there is no method we would hesitate to use in order to make it truly Croatian and cleanse it of Serbs, who have for centuries endangered us and who will endanger us again if they are given the opportunity.[66]\\n\\nAccording to the Simon Wiesenthal Center (citing the Encyclopedia of the Holocaust), \"Ustasa terrorists killed 500,000 Serbs, expelled 250,000 and forced 250,000 to convert to Roman Catholicism. They murdered thousands of Jews and Gypsies.\"[67] The execution methods used by the Ustasha were particularly brutal and sadistic and often included torture, dismemberment or decapitation.[68] A Gestapo report to Heinrich Himmler from 1942 stated, \"The Ustaše committed their deeds in a bestial manner not only against males of conscript age but especially against helpless old people, women and children.\"[69]\\n\\nNumerous concentration camps were built in the NDH, most notably Jasenovac, the largest, where around 100,000 Serbs, Jews, Roma, as well as a number of Croatian political dissidents, died, mostly from torture and starvation.[70] It was established in August 1941 and not dismantled until April 1945, shortly before the end of the war. Jasenovac was a complex of five subcamps and three smaller camps spread out over 240 square kilometres (93 sq mi), in relatively close proximity to each other, on the bank of the Sava river.[71] Most of the camp was at Jasenovac, about 100 km (62 mi) southeast of Zagreb. The complex also included large grounds at Donja Gradina directly across the Sava River, the Jastrebarsko children\\'s camp to the northwest, and the Stara Gradiška camp (Jasenovac V) for women and children to the southeast.[citation needed]\\n\\nUnlike Nazi camps, most murders at Jasenovac were done manually using hammers, axes, knives and other implements.[72] According to testimony, on the night of 29 August 1942, guards at the camp organised a competition to see who could slaughter the most inmates, with guard and former Franciscan priest Petar Brzica winning by cutting the throats of 1,360 inmates.[72] A special knife called a \"Srbosjek\" (Serb-cutter) was designed for the slaughtering of prisoners.[73] Prisoners were sometimes tied with barbed wire, then taken to a ramp near to the Sava River where weights were placed on the wires, their throats and stomachs slashed before their bodies were dumped into the river.[72] After unsuccessful experiments with gas vans, camp commander Vjekoslav Luburić had a gas chamber built at Jasenovac V, where a considerable number of inmates were killed during a three-month experiment with sulfur dioxide and Zyklon B, but this method was abandoned due to poor construction.[74] The Ustashe cremated living inmates as well as corpses.[75][76] Other methods of torture and killing done included: inserting hot nails under finger nails, mutilating parts of the body including plucking out eyeballs, tightening chains around ones head until the skull fractured and the eyes popped and also, placing salt in open wounds.[77] Women were subjected to rape and torture,[78] including breast mutilation.[79] Pregnant women had their wombs cut out.[80]\\n\\nAn escape attempt on 22 April 1945 by 600 male inmates failed and only 84 male prisoners escaped successfully.[81] The remainder and about 400 other prisoners were then murdered by Ustasha guards, despite the fact that they knew the war was ending with Germany\\'s capitulation.[82] All the female inmates from the women\\'s camp (more than 700) had been massacred by the guards the previous day.[82] The guards then destroyed the camp and everything associated with it was burned to the ground.[82] Other concentration camps were the Đakovo camp, Gospić camp, Jadovno camp, Kruščica camp and the Lepoglava camp.\\n\\nUstasha militias and death squads also burnt villages and killed thousands of civilian Serbs in the country-side in sadistic ways with various weapons and tools. Men, women, children were hacked to death, thrown alive into pits and down ravines, or set on fire in churches.[83] Some Serb villages near Srebrenica and Ozren were wholly massacred, while children were found impaled by stakes in villages between Vlasenica and Kladanj.[84] The Glina massacres, where thousands of Serbs were killed, are among the more notable instances of Ustasha cruelty.\\n\\nAnte Pavelić, leader of the Ustasha, fled to Argentina and Spain which gave him protection, and was never extradited to stand trial for his war crimes. Pavelić died on 28 December 1959 at the Hospital Alemán in Madrid, where the Roman Catholic church had helped him to gain asylum, at the age of 70 from gunshot wounds sustained in an earlier assassination attempt by Montenegrin Blagoje Jovović.[85] Some other prominent Ustashe figures and their respective fates:\\n\\nAndrija Artuković, Croatian Minister of Interior. Died in Croatian custody.\\n\\nMile Budak, Croatian politician and chief Ustashe ideologist. Tried and executed by Yugoslav authorities.\\n\\nPetar Brzica, Franciscan friar who won a throat-cutting contest at Jasenovac. Post-war fate unknown.\\n\\nMiroslav Filipović, camp commander and Franciscan friar notorious for his cruelty and sadism. Tried and executed by Yugoslav authorities.\\n\\nSlavko Kvaternik, Ustashe military commander-in-chief. Tried and executed by Yugoslav authorities.\\n\\nVjekoslav \"Maks\" Luburić, commander of the Ustaše Defence Brigades ( Ustaška Odbrana ) and Jasenovac camp. Murdered in Spain.\\n\\n) and Jasenovac camp. Murdered in Spain. Dinko Šakić, Ustashe commander of Jasenovac. Fled to Argentina, extradited to Croatia for trial in 1998. Sentenced to 20 years and died in prison in 2008.\\n\\nMost Ustashe fled the country following the war, mainly with the help of Father Krunoslav Draganović, secretary of the College of Sian Girolamo who helped Ustasha fugitives immigrate illegally to South America.[86]\\n\\nCrimes perpetrated by Ukrainian nationalists [ edit ]\\n\\nThe Ukrainian OUN-B group, along with their military force – Ukrainian Insurgent Army(UPA) – are responsible for a genocide on the Polish population in Volhynia and Eastern Galicia. Starting in March 1943, with its peak in the summer 1943, as many as 80,000 -100,000. Although the main target were Poles, many Jews, Czechs and those Ukrainians unwilling to participate in the crimes, were massacred as well. Lacking good armament and ammunition, UPA members commonly used tools such as axes and pitchforks for the slaughter. As a result of these massacres, almost the entire non-Ukrainian population of Volhynia was either killed or forced to flee. However, the premix of this ethnic cleansing was the war of Polish partisan Homeland Army against Ukraine, in which Poland wanted to re-occupy Western Ukraine, treacherously captured in 1921. Homeland Army committed a genocide of Ukrainians during this conquest campaign, killed as many as 15000 mostly in near-border villages and practised unprecedented cruelty against UPA partisans.\\n\\nUPA commanders responsible for the genocide:\\n\\nRoman Shukhevych – general of the Ukrainian Insurgent Army. As a leader of the UPA he was to be aware and to approve the project of ethnic cleansing in Volhynia and Eastern Galicia.\\n\\nDmytro Klyachkivsky – colonel of the UPA. He gave the order \"to wipe out an entire Polish male population between 16 and 60 years old\" (according to the research of the Ukrainian historians, this citation may be falsified by the Soviet intelligence). Klyachkivsky is regarded as the main initiator of the massacres.\\n\\nMykola Lebed – one of the OUN leaders, and UPA fighter. By the National Archives, he is described as \"Ukrainian fascist leader and suspected Nazi collaborator\"\\n\\nStepan Bandera – leader of the OUN-B. His view was to remove all Poles, who were hostile towards the OUN, and assimilate the rest of them. The role of the main architect of the massacres is often assigned to him. However, he was imprisoned in German concentration camp since 1941, so there is a strong suspicion, that he wasn\\'t fully aware of events in Volhynia.[ citation needed ]\\n\\nAllied powers [ edit ]\\n\\nCrimes perpetrated by the Soviet Union [ edit ]\\n\\nCrimes perpetrated by the United Kingdom [ edit ]\\n\\nCrimes perpetrated by the United States [ edit ]\\n\\n\\n\\n\\n\\nCrimes perpetrated by Canada [ edit ]\\n\\nCrimes perpetrated by the Yugoslav Partisans [ edit ]\\n\\nReferences [ edit ]'"
      ]
     },
     "execution_count": 11,
     "metadata": {},
     "output_type": "execute_result"
    }
   ],
   "source": [
    "article.text"
   ]
  },
  {
   "cell_type": "code",
   "execution_count": 12,
   "id": "15cd859e",
   "metadata": {},
   "outputs": [
    {
     "name": "stdout",
     "output_type": "stream",
     "text": [
      "0.04298464840481646\n"
     ]
    }
   ],
   "source": [
    "new_blob = TextBlob(article.text)\n",
    "\n",
    "sentiment = new_blob.sentiment.polarity\n",
    "\n",
    "print(sentiment)"
   ]
  },
  {
   "cell_type": "code",
   "execution_count": null,
   "id": "18569ea5",
   "metadata": {},
   "outputs": [],
   "source": []
  },
  {
   "cell_type": "code",
   "execution_count": null,
   "id": "4604abd3",
   "metadata": {},
   "outputs": [],
   "source": []
  }
 ],
 "metadata": {
  "kernelspec": {
   "display_name": "Python 3 (ipykernel)",
   "language": "python",
   "name": "python3"
  },
  "language_info": {
   "codemirror_mode": {
    "name": "ipython",
    "version": 3
   },
   "file_extension": ".py",
   "mimetype": "text/x-python",
   "name": "python",
   "nbconvert_exporter": "python",
   "pygments_lexer": "ipython3",
   "version": "3.9.15"
  }
 },
 "nbformat": 4,
 "nbformat_minor": 5
}
